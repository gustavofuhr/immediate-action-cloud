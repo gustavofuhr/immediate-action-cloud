{
 "cells": [
  {
   "cell_type": "code",
   "execution_count": null,
   "id": "0",
   "metadata": {},
   "outputs": [],
   "source": [
    "!docker rm -f sagemaker_inference_server_app 2>/dev/null || true\n",
    "\n",
    "config_file = \"/workspace/D-FINE/configs/dfine/objects365/dfine_hgnetv2_x_obj2coco.yml\"\n",
    "checkpoint_file = \"/workspace/dfine_checkpoints/dfine_x_obj2coco.pth\"\n",
    "\n",
    "IMAGE_NAME = \"sagemaker_inference_server\"\n",
    "!cd ..; docker build -t {IMAGE_NAME} .\n",
    "\n",
    "import os\n",
    "CONTAINER_NAME = f\"{IMAGE_NAME}_app\"\n",
    "\n",
    "host_dump_dir = os.path.join(os.getcwd(), \"dump\")\n",
    "\n",
    "docker_cmd = f\"\"\"\n",
    "docker run --gpus=all --rm -m 8g -p 8080:8080 \\\\\n",
    "  -e CONFIG_FILE={config_file} \\\\\n",
    "  -e CHECKPOINT_FILE={checkpoint_file} \\\\\n",
    "  -e DEVICE=cuda:0 \\\\\n",
    "  -v \"{host_dump_dir}:/dump\" \\\\\n",
    "  --name {CONTAINER_NAME} \\\\\n",
    "  {IMAGE_NAME}\n",
    "\"\"\"\n",
    "\n",
    "print(\"Running Docker command:\\n\", docker_cmd)\n",
    "# !{docker_cmd}"
   ]
  },
  {
   "cell_type": "code",
   "execution_count": null,
   "id": "1",
   "metadata": {},
   "outputs": [],
   "source": [
    "import requests, json\n",
    "\n",
    "response = requests.get(\"http://localhost:8080/models\")\n",
    "print(json.dumps(response.json(), indent=2))\n"
   ]
  },
  {
   "cell_type": "code",
   "execution_count": null,
   "id": "2",
   "metadata": {},
   "outputs": [],
   "source": [
    "import test_utils\n",
    "import importlib\n",
    "importlib.reload(test_utils)\n",
    "from test_utils import get_random_coco_images, get_plate_images, get_local_images, make_local_request, draw_results_by_model\n",
    "\n",
    "params = {\n",
    "    \"license_plate_recognition\": {\n",
    "        \"threshold\": 0.5,\n",
    "        \"ocr_confidence_threshold\": 0.7\n",
    "    },\n",
    "    \"object_detection_then_lpr\": {\n",
    "        \"threshold\": 0.5,\n",
    "        \"classes_to_detect\": [\"person\", \"car\", \"motorcycle\", \"bus\", \"truck\", \"bicycle\"],\n",
    "        \"chained_models\": [\n",
    "            {\"threshold\": 0.6, \"ocr_confidence_threshold\": 0.7}\n",
    "        ]\n",
    "    }\n",
    "}\n",
    "\n",
    "test_image = \"images/car_far.png\"\n",
    "res = make_local_request(test_image, [\"license_plate_recognition\", \"object_detection_then_lpr\"], params=params)\n",
    "draw_results_by_model(test_image, res)\n",
    "print(json.dumps(res, indent=2))\n"
   ]
  },
  {
   "cell_type": "code",
   "execution_count": null,
   "id": "3",
   "metadata": {},
   "outputs": [],
   "source": [
    "test_image = \"images/car_medium.png\"\n",
    "res = make_local_request(test_image, [\"license_plate_recognition\", \"object_detection_and_lpr\"], \n",
    "                                    classes_to_detect=[\"person\", \"car\", \"motorcycle\", \"bus\", \"truck\", \"bicycle\"])\n",
    "draw_results_by_model(test_image, res)\n"
   ]
  },
  {
   "cell_type": "code",
   "execution_count": null,
   "id": "4",
   "metadata": {},
   "outputs": [],
   "source": [
    "test_image = \"images/car_far.png\"\n",
    "res = make_local_request(test_image, [\"license_plate_recognition\", \"object_detection_and_lpr\"], \n",
    "                                    classes_to_detect=[\"person\", \"car\", \"motorcycle\", \"bus\", \"truck\", \"bicycle\"])\n",
    "draw_results_by_model(test_image, res)\n",
    "print(json.dumps(res, indent=2))"
   ]
  },
  {
   "cell_type": "code",
   "execution_count": null,
   "id": "5",
   "metadata": {},
   "outputs": [],
   "source": [
    "\n",
    "test_image = \"images/people_and_car_front_camera.png\"\n",
    "res = make_local_request(test_image, [\"license_plate_recognition\", \"object_detection_and_lpr\", \"object_detection_and_ppe\"], \n",
    "                                    classes_to_detect=[\"person\", \"car\", \"motorcycle\", \"bus\", \"truck\", \"bicycle\"])\n",
    "print(res)\n",
    "draw_results_by_model(test_image, res)\n"
   ]
  }
 ],
 "metadata": {
  "kernelspec": {
   "display_name": "Python 3",
   "language": "python",
   "name": "python3"
  },
  "language_info": {
   "codemirror_mode": {
    "name": "ipython",
    "version": 3
   },
   "file_extension": ".py",
   "mimetype": "text/x-python",
   "name": "python",
   "nbconvert_exporter": "python",
   "pygments_lexer": "ipython3",
   "version": "3.10.12"
  }
 },
 "nbformat": 4,
 "nbformat_minor": 5
}
