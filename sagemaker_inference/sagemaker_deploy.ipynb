{
 "cells": [
  {
   "cell_type": "markdown",
   "id": "0",
   "metadata": {},
   "source": [
    "## Deploy inference models to AWS SageMaker"
   ]
  },
  {
   "cell_type": "markdown",
   "id": "1",
   "metadata": {},
   "source": [
    "Define model parameters and environment."
   ]
  },
  {
   "cell_type": "code",
   "execution_count": null,
   "id": "2",
   "metadata": {},
   "outputs": [],
   "source": [
    "GPU = True\n",
    "OBJECT_DETECTION_MODEL = \"dfine_x_obj2coco\"\n",
    "AWS_REGION = \"eu-west-1\"\n",
    "\n",
    "IMAGE_NAME = \"sagemaker_inference_server\"\n",
    "ECR_REPO_NAME = IMAGE_NAME\n"
   ]
  },
  {
   "cell_type": "code",
   "execution_count": null,
   "id": "3",
   "metadata": {},
   "outputs": [],
   "source": [
    "obj_models = {\n",
    "    \"dfine_s_obj2coco\": {\n",
    "        \"CHECKPOINT_FILE\": \"/workspace/dfine_checkpoints/dfine_s_obj2coco.pth\",\n",
    "        \"CONFIG_FILE\": \"/workspace/D-FINE/configs/dfine/objects365/dfine_hgnetv2_s_obj2coco.yml\",\n",
    "    },\n",
    "    \"dfine_l_coco\": {\n",
    "        \"CHECKPOINT_FILE\": \"/workspace/dfine_checkpoints/dfine_l_coco.pth\",\n",
    "        \"CONFIG_FILE\": \"/workspace/D-FINE/configs/dfine/dfine_hgnetv2_l_coco.yml\",\n",
    "    },\n",
    "    \"dfine_l_obj2coco\": {\n",
    "        \"CHECKPOINT_FILE\": \"/workspace/dfine_checkpoints/dfine_l_obj2coco_e25.pth\",\n",
    "        \"CONFIG_FILE\": \"/workspace/D-FINE/configs/dfine/objects365/dfine_hgnetv2_l_obj2coco.yml\",\n",
    "    },\n",
    "    \"dfine_x_obj2coco\": {\n",
    "        \"CHECKPOINT_FILE\": \"/workspace/dfine_checkpoints/dfine_x_obj2coco.pth\",\n",
    "        \"CONFIG_FILE\": \"/workspace/D-FINE/configs/dfine/objects365/dfine_hgnetv2_x_obj2coco.yml\",\n",
    "    }\n",
    "}\n",
    "\n",
    "CURRENT_INSTANCE_TYPE = \"ml.g4dn.xlarge\" if GPU else \"ml.m5.xlarge\"\n",
    "device = \"cpu\" if CURRENT_INSTANCE_TYPE.startswith(\"ml.m5\") else \"cuda:0\"\n",
    "# model_name = CURRENT_MODEL.replace(\"_\", \"-\")\n"
   ]
  },
  {
   "cell_type": "markdown",
   "id": "4",
   "metadata": {},
   "source": [
    "1. Build docker image and publish to AWS ECR"
   ]
  },
  {
   "cell_type": "code",
   "execution_count": null,
   "id": "5",
   "metadata": {},
   "outputs": [],
   "source": [
    "!docker build -t {IMAGE_NAME} ."
   ]
  },
  {
   "cell_type": "code",
   "execution_count": null,
   "id": "6",
   "metadata": {},
   "outputs": [],
   "source": [
    "import boto3\n",
    "account_id = boto3.client(\"sts\").get_caller_identity()[\"Account\"]\n",
    "\n",
    "ecr_uri = f\"{account_id}.dkr.ecr.{AWS_REGION}.amazonaws.com/{ECR_REPO_NAME}\"\n",
    "print(f\"ECR URL: {ecr_uri}\")\n",
    "!aws ecr create-repository --repository-name {ECR_REPO_NAME} --region {AWS_REGION} || echo \"Repo already exists\""
   ]
  },
  {
   "cell_type": "code",
   "execution_count": null,
   "id": "7",
   "metadata": {},
   "outputs": [],
   "source": [
    "!docker tag {IMAGE_NAME}:latest {ecr_uri}\n",
    "!docker push {ecr_uri}"
   ]
  },
  {
   "cell_type": "code",
   "execution_count": null,
   "id": "8",
   "metadata": {},
   "outputs": [],
   "source": [
    "ecr_uri = ecr_uri.replace(\"_loadtest\", \"\") # load test will use same image as inference server\n",
    "\n",
    "model_name = IMAGE_NAME.replace(\"_\", \"-\")\n",
    "execution_role_arn = \"arn:aws:iam::354918369325:role/AmazonSageMaker-ExecutionRole\"\n",
    "env_vars = obj_models[OBJECT_DETECTION_MODEL].copy()\n",
    "env_vars.update({\"DEVICE\": device})\n",
    "\n",
    "import sys\n",
    "sys.path.append(\"..\")\n",
    "from aws_utils import SageMakerClient\n",
    "c = SageMakerClient(region_name=AWS_REGION)\n",
    "c.sagemaker_inference_deploy_pipeline(model_name, ecr_uri, execution_role_arn, env_vars, CURRENT_INSTANCE_TYPE)"
   ]
  },
  {
   "cell_type": "code",
   "execution_count": null,
   "id": "9",
   "metadata": {},
   "outputs": [],
   "source": [
    "from test_inference_server import get_random_coco_images, get_plate_images, get_local_images\n",
    "import json, boto3\n",
    "import cv2, base64\n",
    "\n",
    "sagemaker_runtime = boto3.client('sagemaker-runtime', region_name=AWS_REGION)\n",
    "def make_aws_sagemaker_request(image_input, model_type):\n",
    "    if image_input.startswith(\"http\"):\n",
    "        payload = {\n",
    "            \"image_url\": image_input,\n",
    "            \"model\": model_type\n",
    "        }\n",
    "    else:\n",
    "        img = cv2.imread(image_input)\n",
    "        if img is None:\n",
    "            print(f\"Failed to read image {image_input}\")\n",
    "            return {}\n",
    "        _, img_encoded = cv2.imencode('.png', img)\n",
    "        image_b64 = base64.b64encode(img_encoded).decode('utf-8')\n",
    "        payload = {\n",
    "            \"image_base64\": image_b64,\n",
    "            \"model\": model_type\n",
    "        }\n",
    "\n",
    "    response = sagemaker_runtime.invoke_endpoint(\n",
    "        EndpointName=f\"{IMAGE_NAME.replace('_', '-')}-endpoint\",\n",
    "        ContentType=\"application/json\",\n",
    "        Body=json.dumps(payload),\n",
    "    )\n",
    "    return json.loads(response[\"Body\"].read().decode())\n",
    "\n",
    "alpr_images = get_plate_images()\n",
    "for image_url in alpr_images:\n",
    "    print(f\"Processing {image_url}\")\n",
    "    result = make_aws_sagemaker_request(image_url, \"license_plate_recognition\")\n",
    "    print(result)\n",
    "    \n",
    "coco_images = get_random_coco_images(5)\n",
    "for image_url in coco_images:\n",
    "    print(f\"Processing {image_url}\")\n",
    "    result = make_aws_sagemaker_request(image_url, \"object_detection\")\n",
    "    print(result)\n",
    "\n",
    "local_images = get_local_images()\n",
    "for image_path in local_images:\n",
    "    print(f\"Processing {image_path}\")\n",
    "    result = make_aws_sagemaker_request(image_path, \"object_detection_and_ppe\")\n",
    "    print(result)\n"
   ]
  }
 ],
 "metadata": {
  "kernelspec": {
   "display_name": "Python 3",
   "language": "python",
   "name": "python3"
  },
  "language_info": {
   "codemirror_mode": {
    "name": "ipython",
    "version": 3
   },
   "file_extension": ".py",
   "mimetype": "text/x-python",
   "name": "python",
   "nbconvert_exporter": "python",
   "pygments_lexer": "ipython3",
   "version": "3.10.12"
  }
 },
 "nbformat": 4,
 "nbformat_minor": 5
}
