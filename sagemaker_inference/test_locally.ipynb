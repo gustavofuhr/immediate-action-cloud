{
 "cells": [
  {
   "cell_type": "code",
   "execution_count": null,
   "id": "0",
   "metadata": {},
   "outputs": [],
   "source": [
    "import time\n",
    "\n",
    "config_file = \"/workspace/D-FINE/configs/dfine/objects365/dfine_hgnetv2_x_obj2coco.yml\"\n",
    "checkpoint_file = \"/workspace/dfine_checkpoints/dfine_x_obj2coco.pth\"\n",
    "\n",
    "IMAGE_NAME = \"sagemaker_inference_server\"\n",
    "!docker build -t {IMAGE_NAME} ."
   ]
  },
  {
   "cell_type": "code",
   "execution_count": null,
   "id": "1",
   "metadata": {},
   "outputs": [],
   "source": [
    "!docker rm -f sagemaker_inference_server_app 2>/dev/null || true"
   ]
  },
  {
   "cell_type": "code",
   "execution_count": null,
   "id": "2",
   "metadata": {},
   "outputs": [],
   "source": [
    "\n",
    "CONTAINER_NAME = f\"{IMAGE_NAME}_app\"\n",
    "\n",
    "docker_cmd = f\"\"\"\n",
    "docker run --gpus=all --rm -m 8g -p 8080:8080 \\\\\n",
    "  -e CONFIG_FILE={config_file} \\\\\n",
    "  -e CHECKPOINT_FILE={checkpoint_file} \\\\\n",
    "  -e DEVICE=cuda:0 \\\\\n",
    "  --name {CONTAINER_NAME} \\\\\n",
    "  {IMAGE_NAME}\n",
    "\"\"\"\n",
    "\n",
    "print(\"Running Docker command:\\n\", docker_cmd)\n",
    "# !{docker_cmd}"
   ]
  },
  {
   "cell_type": "code",
   "execution_count": null,
   "id": "3",
   "metadata": {},
   "outputs": [],
   "source": [
    "import requests\n",
    "from test_inference_server import get_random_coco_images, get_plate_images\n",
    "\n",
    "def make_local_request(image_url, model_type, model_enpoint = \"http://localhost:8080/detect/\"):\n",
    "    response = requests.post(model_enpoint, json={\"image_url\": image_url, \"model\": model_type, \"classes_to_detect\": [0, 1, 2, 3, 4, 5]})\n",
    "    if response.status_code != 200:\n",
    "        print(f\"Failed for {image_url}\")\n",
    "        return {}\n",
    "    else:\n",
    "        return response.json()\n",
    "\n",
    "alpr_images = get_plate_images()\n",
    "for image_url in alpr_images:\n",
    "    print(f\"Processing {image_url}\")\n",
    "    result = make_local_request(image_url, \"license_plate_recognition\")\n",
    "    print(result)\n",
    "    \n",
    "coco_images = get_random_coco_images(5)\n",
    "for image_url in coco_images:\n",
    "    print(f\"Processing {image_url}\")\n",
    "    result = make_local_request(image_url, \"object_detection\")\n",
    "    print(result)"
   ]
  }
 ],
 "metadata": {
  "kernelspec": {
   "display_name": "Python 3",
   "language": "python",
   "name": "python3"
  },
  "language_info": {
   "codemirror_mode": {
    "name": "ipython",
    "version": 3
   },
   "file_extension": ".py",
   "mimetype": "text/x-python",
   "name": "python",
   "nbconvert_exporter": "python",
   "pygments_lexer": "ipython3",
   "version": "3.10.12"
  }
 },
 "nbformat": 4,
 "nbformat_minor": 5
}
