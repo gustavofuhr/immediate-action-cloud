{
 "cells": [
  {
   "cell_type": "markdown",
   "id": "0",
   "metadata": {},
   "source": [
    "## Experiments querying events with processed AI\n",
    "\n",
    "Basically we aim to filter by dates (initial and end) and classes of detections. That should return some some dynamoDB registers with associated S3 video files (many to one). "
   ]
  },
  {
   "cell_type": "code",
   "execution_count": null,
   "id": "1",
   "metadata": {},
   "outputs": [],
   "source": [
    "DEVICE_NAME = \"axis-p3827-front-far\"\n",
    "\n",
    "START_DATE = \"2025-05-01T00:00:00+00:00\"\n",
    "END_DATE = \"2025-05-01T23:59:59+00:00\"\n",
    "\n",
    "CLASSES_TO_QUERY = {\"person\", \"dog\", \"bird\"}\n",
    "\n",
    "import boto3\n",
    "from boto3.dynamodb.conditions import Key\n",
    "from datetime import datetime\n",
    "from pprint import pprint\n",
    "\n",
    "# Convert to DynamoDB-compatible format (match what’s stored before the \"_\")\n",
    "START_KEY = START_DATE.replace(\"T\", \" \")\n",
    "END_KEY = END_DATE.replace(\"T\", \" \")\n",
    "\n",
    "# Initialize DynamoDB\n",
    "dynamodb = boto3.resource(\"dynamodb\", region_name=\"eu-west-1\")\n",
    "\n",
    "table = dynamodb.Table(\"event_ai\")\n",
    "\n",
    "all_items = []\n",
    "last_key = None\n",
    "\n",
    "while True:\n",
    "    if last_key:\n",
    "        response = table.query(\n",
    "            KeyConditionExpression=Key(\"device\").eq(DEVICE_NAME) &\n",
    "                                     Key(\"timestamp\").between(START_KEY, END_KEY),\n",
    "            ExclusiveStartKey=last_key\n",
    "        )\n",
    "    else:\n",
    "        response = table.query(\n",
    "            KeyConditionExpression=Key(\"device\").eq(DEVICE_NAME) &\n",
    "                                     Key(\"timestamp\").between(START_KEY, END_KEY)\n",
    "        )\n",
    "\n",
    "    all_items.extend(response.get(\"Items\", []))\n",
    "\n",
    "    last_key = response.get(\"LastEvaluatedKey\")\n",
    "    if not last_key:\n",
    "        break\n",
    "\n",
    "print(f\"Total items: {len(all_items)}\")\n"
   ]
  },
  {
   "cell_type": "code",
   "execution_count": null,
   "id": "2",
   "metadata": {},
   "outputs": [],
   "source": [
    "COCO_CLASSES = {\n",
    "    0: 'person', 1: 'bicycle', 2: 'car', 3: 'motorcycle', 4: 'airplane', 5: 'bus', 6: 'train', 7: 'truck', 8: 'boat',\n",
    "    9: 'traffic light', 10: 'fire hydrant', 11: 'stop sign', 12: 'parking meter', 13: 'bench', 14: 'bird', 15: 'cat',\n",
    "    16: 'dog', 17: 'horse', 18: 'sheep', 19: 'cow', 20: 'elephant', 21: 'bear', 22: 'zebra', 23: 'giraffe',\n",
    "    24: 'backpack', 25: 'umbrella', 26: 'handbag', 27: 'tie', 28: 'suitcase', 29: 'frisbee', 30: 'skis',\n",
    "    31: 'snowboard', 32: 'sports ball', 33: 'kite', 34: 'baseball bat', 35: 'baseball glove', 36: 'skateboard',\n",
    "    37: 'surfboard', 38: 'tennis racket', 39: 'bottle', 40: 'wine glass', 41: 'cup', 42: 'fork', 43: 'knife',\n",
    "    44: 'spoon', 45: 'bowl', 46: 'banana', 47: 'apple', 48: 'sandwich', 49: 'orange', 50: 'broccoli', 51: 'carrot',\n",
    "    52: 'hot dog', 53: 'pizza', 54: 'donut', 55: 'cake', 56: 'chair', 57: 'couch', 58: 'potted plant', 59: 'bed',\n",
    "    60: 'dining table', 61: 'toilet', 62: 'tv', 63: 'laptop', 64: 'mouse', 65: 'remote', 66: 'keyboard',\n",
    "    67: 'cell phone', 68: 'microwave', 69: 'oven', 70: 'toaster', 71: 'sink', 72: 'refrigerator', 73: 'book',\n",
    "    74: 'clock', 75: 'vase', 76: 'scissors', 77: 'teddy bear', 78: 'hair drier', 79: 'toothbrush'\n",
    "}"
   ]
  },
  {
   "cell_type": "code",
   "execution_count": null,
   "id": "3",
   "metadata": {},
   "outputs": [],
   "source": [
    "match_items = []\n",
    "print(f\"Querying for items between {START_DATE} and {END_DATE} for device {DEVICE_NAME}\")\n",
    "\n",
    "for item in all_items:\n",
    "    # pprint(item)\n",
    "    classes = set([COCO_CLASSES[int(d[\"label\"])] for d in item[\"all_fragment_detections\"] if d[\"score\"] >= 0.7])\n",
    "    if classes.intersection(CLASSES_TO_QUERY):\n",
    "        timestamp = item[\"timestamp\"][:-4] # remove the frame number\n",
    "        if timestamp not in match_items:\n",
    "            match_items.append(timestamp)\n",
    "        \n",
    "print(f\"Found {len(match_items)} matches in the time range {START_DATE} to {END_DATE}\")"
   ]
  },
  {
   "cell_type": "code",
   "execution_count": null,
   "id": "4",
   "metadata": {},
   "outputs": [],
   "source": [
    "from datetime import datetime, timedelta\n",
    "\n",
    "\n",
    "bucket_name = \"motion-event-snapshots\"\n",
    "s3 = boto3.client(\"s3\", region_name=\"eu-west-1\")\n",
    "\n",
    "video_files = []\n",
    "paginator = s3.get_paginator(\"list_objects_v2\")\n",
    "for page in paginator.paginate(Bucket=bucket_name, Prefix=DEVICE_NAME):\n",
    "    for obj in page.get(\"Contents\", []):\n",
    "        key = obj[\"Key\"]\n",
    "        if key.endswith(\".mp4\"):\n",
    "            ts_str = key.removeprefix(f\"{DEVICE_NAME}/\").removesuffix(\".mp4\")\n",
    "            ts = datetime.strptime(ts_str, \"%Y-%m-%dT%H:%M:%S\")\n",
    "            video_files.append((ts, key))\n",
    "\n",
    "video_files.sort()\n"
   ]
  },
  {
   "cell_type": "code",
   "execution_count": null,
   "id": "5",
   "metadata": {},
   "outputs": [],
   "source": [
    "# 2. Map match_items to video file\n",
    "match_to_video = {}\n",
    "matched_videos = set()\n",
    "\n",
    "for ts_str in match_items:\n",
    "    match_ts = datetime.fromisoformat(ts_str.split(\"+\")[0])  # strip offset if any\n",
    "    lower_bound = match_ts - timedelta(seconds=11)\n",
    "\n",
    "    # Find best match: latest video before or at match_ts\n",
    "    best_match = None\n",
    "    for vid_ts, key in reversed(video_files):\n",
    "        if lower_bound <= vid_ts <= match_ts:\n",
    "            best_match = key\n",
    "            break\n",
    "\n",
    "    match_to_video[ts_str] = best_match\n",
    "    print(f\"Match: {ts_str} -> Video: {best_match}\")\n",
    "    if best_match:\n",
    "        matched_videos.add(best_match)\n",
    "    \n",
    "matched_videos"
   ]
  },
  {
   "cell_type": "code",
   "execution_count": null,
   "id": "6",
   "metadata": {},
   "outputs": [],
   "source": [
    "for m in matched_videos:\n",
    "    url = s3.generate_presigned_url(\n",
    "        \"get_object\",\n",
    "        Params={\"Bucket\": bucket_name, \"Key\": m},\n",
    "        ExpiresIn=3600,\n",
    "    )\n",
    "\n",
    "    print(url)"
   ]
  }
 ],
 "metadata": {
  "kernelspec": {
   "display_name": ".kvs_consumer",
   "language": "python",
   "name": "python3"
  },
  "language_info": {
   "codemirror_mode": {
    "name": "ipython",
    "version": 3
   },
   "file_extension": ".py",
   "mimetype": "text/x-python",
   "name": "python",
   "nbconvert_exporter": "python",
   "pygments_lexer": "ipython3",
   "version": "3.10.12"
  }
 },
 "nbformat": 4,
 "nbformat_minor": 5
}
