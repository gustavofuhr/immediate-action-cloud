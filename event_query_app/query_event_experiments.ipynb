{
 "cells": [
  {
   "cell_type": "markdown",
   "id": "0",
   "metadata": {},
   "source": [
    "# Experiments querying events processed by AI\n",
    "\n"
   ]
  },
  {
   "cell_type": "code",
   "execution_count": null,
   "id": "1",
   "metadata": {},
   "outputs": [],
   "source": [
    "DEVICE_NAME = \"axis-p3827-front-far\"\n",
    "\n",
    "START_DATE = \"2025-05-10T00:00:00.000000+00:00\"\n",
    "END_DATE = \"2025-05-10T23:59:59.000000+00:00\"\n",
    "\n",
    "CLASSES_TO_QUERY = {\"person\", \"dog\", \"bird\"}\n",
    "\n",
    "import boto3\n",
    "from boto3.dynamodb.conditions import Key\n",
    "from datetime import datetime\n",
    "from pprint import pprint\n",
    "\n",
    "# Initialize DynamoDB\n",
    "dynamodb = boto3.resource(\"dynamodb\", region_name=\"eu-west-1\")\n",
    "\n",
    "table = dynamodb.Table(\"events\")\n",
    "\n",
    "all_items = []\n",
    "last_key = None\n",
    "\n",
    "while True:\n",
    "    if last_key:\n",
    "        response = table.query(\n",
    "            KeyConditionExpression=Key(\"device_id\").eq(DEVICE_NAME) &\n",
    "                                     Key(\"event_timestamp\").between(START_DATE, END_DATE),\n",
    "            ExclusiveStartKey=last_key\n",
    "        )\n",
    "    else:\n",
    "        response = table.query(\n",
    "            KeyConditionExpression=Key(\"device_id\").eq(DEVICE_NAME) &\n",
    "                                     Key(\"event_timestamp\").between(START_DATE, END_DATE)\n",
    "        )\n",
    "\n",
    "    all_items.extend(response.get(\"Items\", []))\n",
    "\n",
    "    last_key = response.get(\"LastEvaluatedKey\")\n",
    "    if not last_key:\n",
    "        break\n",
    "\n",
    "print(f\"Total items: {len(all_items)}\")\n",
    "all_items"
   ]
  },
  {
   "cell_type": "code",
   "execution_count": null,
   "id": "2",
   "metadata": {},
   "outputs": [],
   "source": [
    "# now, filter the items that have an intersection with the classes we are interested in\n",
    "filtered_items = []\n",
    "for item in all_items:\n",
    "    if \"seen_classes\" in item and item[\"seen_classes\"]:\n",
    "        seen_classes = set(item[\"seen_classes\"])\n",
    "        if seen_classes.intersection(CLASSES_TO_QUERY):\n",
    "            filtered_items.append(item)\n",
    "\n",
    "print(f\"Filtered items: {len(filtered_items)}\")"
   ]
  }
 ],
 "metadata": {
  "kernelspec": {
   "display_name": "Python 3",
   "language": "python",
   "name": "python3"
  },
  "language_info": {
   "codemirror_mode": {
    "name": "ipython",
    "version": 3
   },
   "file_extension": ".py",
   "mimetype": "text/x-python",
   "name": "python",
   "nbconvert_exporter": "python",
   "pygments_lexer": "ipython3",
   "version": "3.10.12"
  }
 },
 "nbformat": 4,
 "nbformat_minor": 5
}
