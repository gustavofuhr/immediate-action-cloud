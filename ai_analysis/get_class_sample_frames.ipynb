{
 "cells": [
  {
   "cell_type": "markdown",
   "id": "0",
   "metadata": {},
   "source": [
    "## Get frames from a given class (car)\n",
    "\n",
    "This script aims to retrieve class samples (car, people, etc.) from event frames stored at DynamoDB and KVS."
   ]
  },
  {
   "cell_type": "code",
   "execution_count": null,
   "id": "1",
   "metadata": {},
   "outputs": [],
   "source": [
    "from datetime import datetime, timedelta, timezone\n",
    "import random\n",
    "import sys\n",
    "from collections import defaultdict\n",
    "from tqdm import tqdm\n",
    "from glob import glob\n",
    "import os\n",
    "\n",
    "sys.path.append('..')\n",
    "from event_query_app.event_query import EventQuery\n",
    "\n",
    "CLASS = \"car\"\n",
    "DEVICE_ID = \"B8A44FB3A1F9__front\"\n",
    "\n",
    "THRESHOLD = 0.5\n",
    "CAP_PER_DAY_PER_DEVICE = 20\n",
    "DAYS_BACK = 30\n",
    "\n",
    "event_query = EventQuery()\n",
    "END_DATE = datetime.now(timezone.utc)\n",
    "\n",
    "from kvs_event_consumer import KVSEventConsumer\n",
    "import numpy as np\n",
    "import cv2\n",
    "\n",
    "kvs_consumer = KVSEventConsumer()\n",
    "for day_offset in range(DAYS_BACK):\n",
    "    day_start = END_DATE - timedelta(days=day_offset + 1)\n",
    "    day_end = END_DATE - timedelta(days=day_offset)\n",
    "    print(f\"Processing events from {day_start} to {day_end}\")\n",
    "\n",
    "    daily_results = event_query.query_events(\n",
    "        start_date=day_start,\n",
    "        end_date=day_end,\n",
    "        target_classes=[CLASS],\n",
    "        threshold=THRESHOLD,\n",
    "        device_ids=[DEVICE_ID]\n",
    "    )\n",
    "\n",
    "    sampled_daily_events = random.sample(daily_results, CAP_PER_DAY_PER_DEVICE)\n",
    "    for event in tqdm(sampled_daily_events):\n",
    "        existing_files = glob(os.path.join(\"B8A44FB3A1F9__front_cars\", f\"event_{event['timestamp']}_frame_*.png\"))\n",
    "        if existing_files:\n",
    "            continue  # Skip if already processed\n",
    "\n",
    "\n",
    "        frames = kvs_consumer.get_event_frames(event)\n",
    "        indices = np.linspace(0, len(frames) - 1, num=3, dtype=int)\n",
    "        for i in indices:\n",
    "            frame_bgr = cv2.cvtColor(frames[i], cv2.COLOR_RGB2BGR)\n",
    "            cv2.imwrite(f\"B8A44FB3A1F9__front_cars/event_{event['timestamp']}_frame_{i}.png\", frame_bgr)\n",
    "            \n",
    "        "
   ]
  },
  {
   "cell_type": "markdown",
   "id": "2",
   "metadata": {},
   "source": [
    "WHATS is better here: \n",
    "\n",
    "(1) - get the event from KVS and run a detector on it saving nice frames.\n",
    "\n",
    "(2) - try to already use detections made before and sync with KVS"
   ]
  },
  {
   "cell_type": "markdown",
   "id": "3",
   "metadata": {},
   "source": [
    "Now, for every image in the dataset, tries to run ALPR on it"
   ]
  }
 ],
 "metadata": {
  "kernelspec": {
   "display_name": ".ai_analysis",
   "language": "python",
   "name": "python3"
  },
  "language_info": {
   "codemirror_mode": {
    "name": "ipython",
    "version": 3
   },
   "file_extension": ".py",
   "mimetype": "text/x-python",
   "name": "python",
   "nbconvert_exporter": "python",
   "pygments_lexer": "ipython3",
   "version": "3.10.12"
  }
 },
 "nbformat": 4,
 "nbformat_minor": 5
}
