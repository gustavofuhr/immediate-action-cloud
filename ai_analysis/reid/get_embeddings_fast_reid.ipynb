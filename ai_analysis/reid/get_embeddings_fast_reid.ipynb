{
 "cells": [
  {
   "cell_type": "code",
   "execution_count": null,
   "id": "0",
   "metadata": {},
   "outputs": [],
   "source": [
    "import os\n",
    "import cv2\n",
    "import torch\n",
    "import numpy as np\n",
    "from tqdm import tqdm\n",
    "import sys\n",
    "sys.path.append('fast-reid/')\n",
    "\n",
    "from demo.predictor import FeatureExtractionDemo\n",
    "from fastreid.config import get_cfg\n",
    "\n",
    "\n",
    "def setup_cfg(config_file, weights, device=\"cuda\"):\n",
    "    cfg = get_cfg()\n",
    "    cfg.merge_from_file(config_file)\n",
    "    cfg.MODEL.WEIGHTS = weights\n",
    "    cfg.MODEL.DEVICE = device if torch.cuda.is_available() else \"cpu\"\n",
    "    cfg.freeze()\n",
    "    return cfg\n",
    "\n",
    "def extract_features_from_folder(img_folder, predictor, cfg, save_path=\"reid_features.npz\"):\n",
    "    dataset_embeddings = {}\n",
    "    for fname in tqdm(os.listdir(img_folder)):\n",
    "        if fname.lower().endswith((\".jpg\", \".jpeg\", \".png\")):\n",
    "            img_path = os.path.join(img_folder, fname)\n",
    "            img = cv2.imread(img_path)\n",
    "            feat = predictor.run_on_image(img)\n",
    "\n",
    "            dataset_embeddings[fname] = feat\n",
    "\n",
    "    return dataset_embeddings\n",
    "\n"
   ]
  },
  {
   "cell_type": "code",
   "execution_count": null,
   "id": "1",
   "metadata": {},
   "outputs": [],
   "source": [
    "# CONFIG_FILE = \"fast-reid/configs/Market1501/bagtricks_S50.yml\"\n",
    "# MODEL_WEIGHTS = \"market_bot_S50.pth\"\n",
    "CONFIG_FILE = \"fast-reid/configs/Market1501/sbs_R101-ibn.yml\" \n",
    "MODEL_WEIGHTS = \"market_sbs_R101-ibn.pth\"\n",
    "\n",
    "IMG_FOLDER = \"/home/gfuhr/projects/data/immediate_action/people_v1_cropped\"\n",
    "SAVE_PATH = \"reid_features_sbs_r101.npz\"\n",
    "DEVICE = \"cuda\"\n",
    "cfg = setup_cfg(CONFIG_FILE, MODEL_WEIGHTS, DEVICE)\n",
    "predictor = FeatureExtractionDemo(cfg)\n",
    "dataset_embeddings = extract_features_from_folder(IMG_FOLDER, predictor, cfg, SAVE_PATH)\n",
    "\n",
    "np.savez(SAVE_PATH, **dataset_embeddings)\n"
   ]
  }
 ],
 "metadata": {
  "kernelspec": {
   "display_name": ".fast_reid",
   "language": "python",
   "name": "python3"
  },
  "language_info": {
   "codemirror_mode": {
    "name": "ipython",
    "version": 3
   },
   "file_extension": ".py",
   "mimetype": "text/x-python",
   "name": "python",
   "nbconvert_exporter": "python",
   "pygments_lexer": "ipython3",
   "version": "3.8.20"
  }
 },
 "nbformat": 4,
 "nbformat_minor": 5
}
