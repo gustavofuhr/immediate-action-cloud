{
 "cells": [
  {
   "cell_type": "markdown",
   "id": "0",
   "metadata": {},
   "source": [
    "### Simple (and useful) script to donwload frames from an specific event"
   ]
  },
  {
   "cell_type": "code",
   "execution_count": null,
   "id": "1",
   "metadata": {},
   "outputs": [],
   "source": [
    "DEVICE_ID = \"B8A44FE6D078__booth_entrance\"\n",
    "EVENT_TIMESTAMP = \"2025-07-24T14:40:09.407576+00:00\"\n",
    "\n",
    "N_SAMPLES = 100\n",
    "\n",
    "from kvs_event_consumer import KVSEventConsumer\n",
    "kvs_consumer = KVSEventConsumer()\n",
    "frames = kvs_consumer.get_event_frames(\n",
    "    {\"device_id\": DEVICE_ID, \"event_timestamp\": EVENT_TIMESTAMP}\n",
    ")\n",
    "print(f\"Got {len(frames)} frames for event {DEVICE_ID} at {EVENT_TIMESTAMP}\")"
   ]
  },
  {
   "cell_type": "code",
   "execution_count": null,
   "id": "2",
   "metadata": {},
   "outputs": [],
   "source": [
    "import cv2\n",
    "\n",
    "if N_SAMPLES > len(frames):\n",
    "    N_SAMPLES = len(frames)\n",
    "    print(f\"Reduced N_SAMPLES to {N_SAMPLES} as there are not enough frames.\")\n",
    "    \n",
    "sampled_frames = [frames[int(i * len(frames) / N_SAMPLES)] for i in range(N_SAMPLES)]\n",
    "for i, frame in enumerate(frames):\n",
    "    cv2.imwrite(f\"frame_{i}.png\", cv2.cvtColor(frame, cv2.COLOR_RGB2BGR))\n"
   ]
  }
 ],
 "metadata": {
  "kernelspec": {
   "display_name": "Python 3",
   "language": "python",
   "name": "python3"
  },
  "language_info": {
   "codemirror_mode": {
    "name": "ipython",
    "version": 3
   },
   "file_extension": ".py",
   "mimetype": "text/x-python",
   "name": "python",
   "nbconvert_exporter": "python",
   "pygments_lexer": "ipython3",
   "version": "3.10.12"
  }
 },
 "nbformat": 4,
 "nbformat_minor": 5
}
