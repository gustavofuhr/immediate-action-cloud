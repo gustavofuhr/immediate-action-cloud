{
 "cells": [
  {
   "cell_type": "markdown",
   "id": "0",
   "metadata": {},
   "source": [
    "## Creates the table where the predictions will be store\n",
    "\n",
    "Fri 1 Aug 2025: I'm deprecating the event_detections and plate_recognitions table so all predictions are stored here from now on."
   ]
  },
  {
   "cell_type": "code",
   "execution_count": null,
   "id": "1",
   "metadata": {},
   "outputs": [],
   "source": [
    "import boto3\n",
    "from botocore.exceptions import ClientError\n",
    "\n",
    "dynamodb = boto3.resource(\"dynamodb\", region_name=\"eu-west-1\")\n",
    "TABLE_NAME = \"event_predictions\"\n",
    "\n",
    "try:\n",
    "    table = dynamodb.create_table(\n",
    "        TableName=TABLE_NAME,\n",
    "        KeySchema=[\n",
    "            {\"AttributeName\": \"device_id\", \"KeyType\": \"HASH\"},\n",
    "            {\"AttributeName\": \"frame_timestamp\", \"KeyType\": \"RANGE\"},\n",
    "        ],\n",
    "        AttributeDefinitions=[\n",
    "            {\"AttributeName\": \"device_id\", \"AttributeType\": \"S\"},\n",
    "            {\"AttributeName\": \"frame_timestamp\", \"AttributeType\": \"S\"},\n",
    "            {\"AttributeName\": \"event_timestamp\", \"AttributeType\": \"S\"},  # for GSI\n",
    "        ],\n",
    "        GlobalSecondaryIndexes=[\n",
    "            {\n",
    "                \"IndexName\": \"event_timestamp_index\",\n",
    "                \"KeySchema\": [\n",
    "                    {\"AttributeName\": \"event_timestamp\", \"KeyType\": \"HASH\"},\n",
    "                    {\"AttributeName\": \"device_id\", \"KeyType\": \"RANGE\"},\n",
    "                ],\n",
    "                \"Projection\": {\"ProjectionType\": \"ALL\"},\n",
    "            }\n",
    "        ],\n",
    "        BillingMode=\"PAY_PER_REQUEST\"\n",
    "    )\n",
    "    print(\"Creating table...\")\n",
    "    table.wait_until_exists()\n",
    "    print(f\"Table '{TABLE_NAME}' created.\")\n",
    "except ClientError as e:\n",
    "    if e.response[\"Error\"][\"Code\"] == \"ResourceInUseException\":\n",
    "        print(f\"Table '{TABLE_NAME}' already exists.\")\n",
    "    else:\n",
    "        raise"
   ]
  }
 ],
 "metadata": {
  "kernelspec": {
   "display_name": "Python 3",
   "language": "python",
   "name": "python3"
  },
  "language_info": {
   "codemirror_mode": {
    "name": "ipython",
    "version": 3
   },
   "file_extension": ".py",
   "mimetype": "text/x-python",
   "name": "python",
   "nbconvert_exporter": "python",
   "pygments_lexer": "ipython3",
   "version": "3.10.12"
  }
 },
 "nbformat": 4,
 "nbformat_minor": 5
}
