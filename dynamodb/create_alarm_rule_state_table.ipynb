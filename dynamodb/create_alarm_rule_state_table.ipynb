{
 "cells": [
  {
   "cell_type": "markdown",
   "metadata": {},
   "source": [
    "## Create alarm rule state table\n",
    "\n",
    "Stores per-stream, per-rule cooldown state (atomic gating)."
   ]
  },
  {
   "cell_type": "code",
   "execution_count": null,
   "metadata": {},
   "outputs": [],
   "source": [
    "import boto3\n",
    "from botocore.exceptions import ClientError\n",
    "\n",
    "dynamodb = boto3.resource(\"dynamodb\", region_name=\"eu-west-1\")\n",
    "TABLE_NAME = \"alarm_rule_state\"\n",
    "\n",
    "try:\n",
    "    table = dynamodb.create_table(\n",
    "        TableName=TABLE_NAME,\n",
    "        KeySchema=[\n",
    "            {\"AttributeName\": \"stream_name\", \"KeyType\": \"HASH\"},       # Partition key\n",
    "            {\"AttributeName\": \"rule_id\", \"KeyType\": \"RANGE\"}        # Sort key\n",
    "        ],\n",
    "        AttributeDefinitions=[\n",
    "            {\"AttributeName\": \"stream_name\", \"AttributeType\": \"S\"},\n",
    "            {\"AttributeName\": \"rule_id\", \"AttributeType\": \"S\"},\n",
    "        ],\n",
    "        BillingMode=\"PAY_PER_REQUEST\"\n",
    "    )\n",
    "    print(\"Creating table...\")\n",
    "    table.wait_until_exists()\n",
    "    print(f\"Table '{TABLE_NAME}' created.\")\n",
    "except ClientError as e:\n",
    "    if e.response[\"Error\"][\"Code\"] == \"ResourceInUseException\":\n",
    "        print(f\"Table '{TABLE_NAME}' already exists.\")\n",
    "    else:\n",
    "        raise\n"
   ]
  },
  {
   "cell_type": "markdown",
   "metadata": {},
   "source": [
    "### Enable TTL on attribute `ttl`\n",
    "TTL is used for automatic cleanup of cooldown rows."
   ]
  },
  {
   "cell_type": "code",
   "execution_count": null,
   "metadata": {},
   "outputs": [],
   "source": [
    "import boto3\n",
    "from botocore.exceptions import ClientError\n",
    "\n",
    "client = boto3.client(\"dynamodb\", region_name=\"eu-west-1\")\n",
    "try:\n",
    "    resp = client.update_time_to_live(\n",
    "        TableName=\"alarm_rule_state\",\n",
    "        TimeToLiveSpecification={\n",
    "            'Enabled': True,\n",
    "            'AttributeName': 'ttl'\n",
    "        }\n",
    "    )\n",
    "    print(\"TTL enabled on 'ttl'\")\n",
    "except ClientError as e:\n",
    "    code = e.response.get('Error', {}).get('Code')\n",
    "    if code in (\"ValidationException\", \"ResourceInUseException\"):\n",
    "        print(f\"TTL already configured or table not in ACTIVE state yet: {code}\")\n",
    "    else:\n",
    "        raise\n"
   ]
  }
 ],
 "metadata": {
  "kernelspec": {
   "display_name": "Python 3",
   "language": "python",
   "name": "python3"
  },
  "language_info": {
   "codemirror_mode": {
    "name": "ipython",
    "version": 3
   },
   "file_extension": ".py",
   "mimetype": "text/x-python",
   "name": "python",
   "nbconvert_exporter": "python",
   "pygments_lexer": "ipython3",
   "version": "3.10.12"
  }
 },
 "nbformat": 4,
 "nbformat_minor": 2
}
