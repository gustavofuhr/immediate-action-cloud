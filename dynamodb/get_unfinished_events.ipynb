{
 "cells": [
  {
   "cell_type": "markdown",
   "id": "0",
   "metadata": {},
   "source": [
    "# Get unfinished/problematic events\n",
    "\n",
    "This script will get the last few unfinished events (if any), from the cameras. \n",
    "Will also get the logs for each."
   ]
  },
  {
   "cell_type": "code",
   "execution_count": null,
   "id": "1",
   "metadata": {},
   "outputs": [],
   "source": [
    "import boto3\n",
    "from boto3.dynamodb.conditions import Key, Attr\n",
    "from datetime import datetime, timedelta\n",
    "\n",
    "dynamodb = boto3.resource(\"dynamodb\", region_name=\"eu-west-1\")\n",
    "table = dynamodb.Table(\"events\")\n",
    "\n",
    "CAMERAS = [\n",
    "    \"B8A44FE820CC__construction_ptz\",\n",
    "    \"B8A44FCDF536__parking_lot\",\n",
    "    \"B8A44F976508__panoramic_tree\",\n",
    "    \"B8A44FB97C3C__panoramic_garages\",\n",
    "    \"B8A44F9C9902__train_rails\",\n",
    "    \"B8A44FD014E5__distorted_tree\"\n",
    "]\n",
    "\n",
    "start_time = (datetime.utcnow() - timedelta(hours=24)).isoformat()\n",
    "end_time = datetime.utcnow().isoformat()\n",
    "\n",
    "all_items = []\n",
    "\n",
    "for camera_id in CAMERAS:\n",
    "    last_key = None\n",
    "    while True:\n",
    "        query_kwargs = {\n",
    "            \"KeyConditionExpression\": Key(\"device_id\").eq(camera_id) &\n",
    "                                     Key(\"event_timestamp\").between(start_time, end_time),\n",
    "            \"FilterExpression\": Attr(\"processing_end_timestamp\").not_exists(),\n",
    "        }\n",
    "\n",
    "        if last_key:\n",
    "            query_kwargs[\"ExclusiveStartKey\"] = last_key\n",
    "\n",
    "        response = table.query(**query_kwargs)\n",
    "        all_items.extend(response.get(\"Items\", []))\n",
    "        last_key = response.get(\"LastEvaluatedKey\")\n",
    "        if not last_key:\n",
    "            break\n",
    "\n",
    "    print(f\"Found {len(all_items)} events.\")"
   ]
  },
  {
   "cell_type": "code",
   "execution_count": null,
   "id": "2",
   "metadata": {},
   "outputs": [],
   "source": [
    "for item in all_items:\n",
    "    print(item)"
   ]
  },
  {
   "cell_type": "code",
   "execution_count": null,
   "id": "3",
   "metadata": {},
   "outputs": [],
   "source": [
    "# for each item append its logs from aws\n",
    "LOG_GROUP_NAME = \"/aws/lambda/event_ai_debug_sagemaker\"\n",
    "logs_client = boto3.client(\"logs\", region_name=\"eu-west-1\")\n",
    "\n",
    "def get_log_events(log_group, log_stream_name):\n",
    "    try:\n",
    "        response = logs_client.get_log_events(\n",
    "            logGroupName=log_group,\n",
    "            logStreamName=log_stream_name,\n",
    "            limit=200,\n",
    "            startFromHead=True\n",
    "        )\n",
    "        messages = [event[\"message\"] for event in response[\"events\"]]\n",
    "        return \"\".join(messages)\n",
    "    except logs_client.exceptions.ResourceNotFoundException:\n",
    "        return \"Log stream not found\"\n",
    "    except Exception as e:\n",
    "        return f\"Error: {e}\"\n",
    "\n",
    "for item in all_items:\n",
    "    log_stream_name = item.get(\"lambda_log_stream_name\")\n",
    "    if log_stream_name:\n",
    "        logs = get_log_events(LOG_GROUP_NAME, log_stream_name)\n",
    "        item[\"lambda_logs\"] = logs\n",
    "    else:\n",
    "        item[\"lambda_logs\"] = \"No log stream name\"    "
   ]
  },
  {
   "cell_type": "code",
   "execution_count": null,
   "id": "4",
   "metadata": {},
   "outputs": [],
   "source": [
    "# dump each log into a txt file inside failed_events, each filename should be the device_id  + event_timestamp\n",
    "for item in all_items:\n",
    "    device_id = item.get(\"device_id\")\n",
    "    event_timestamp = item.get(\"event_timestamp\")\n",
    "    req_id = item.get(\"lambda_aws_request_id\")\n",
    "    if device_id and event_timestamp:\n",
    "        filename = f\"failed_events/{device_id}_{event_timestamp}.txt\"\n",
    "        with open(filename, \"w\") as f:\n",
    "            f.write(\"Request ID of the failed lambda: \" + req_id + \"\\n\\n\")\n",
    "            f.write(item[\"lambda_logs\"])\n",
    "        print(f\"Logs saved to {filename}\")\n",
    "    else:\n",
    "        print(\"Missing device_id or event_timestamp for item:\", item)\n",
    "\n",
    "print(\"All logs saved.\")"
   ]
  }
 ],
 "metadata": {
  "kernelspec": {
   "display_name": "Python 3",
   "language": "python",
   "name": "python3"
  },
  "language_info": {
   "codemirror_mode": {
    "name": "ipython",
    "version": 3
   },
   "file_extension": ".py",
   "mimetype": "text/x-python",
   "name": "python",
   "nbconvert_exporter": "python",
   "pygments_lexer": "ipython3",
   "version": "3.10.12"
  }
 },
 "nbformat": 4,
 "nbformat_minor": 5
}
