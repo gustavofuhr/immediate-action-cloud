{
 "cells": [
  {
   "cell_type": "markdown",
   "id": "0",
   "metadata": {},
   "source": [
    "### Add alarm configurations, per stream, into the `stream_confgs` table"
   ]
  },
  {
   "cell_type": "code",
   "execution_count": null,
   "id": "1",
   "metadata": {},
   "outputs": [],
   "source": [
    "from decimal import Decimal\n",
    "\n",
    "STANDARD_CONFIG = {\n",
    "    \"channels\": {\n",
    "        \"email\": {\"recipients\": [\"gustavofuhr87@gmail.com\"]},\n",
    "    },\n",
    "    \"rules\": {\n",
    "        \"object\": {\n",
    "            \"targets\": {\n",
    "                \"dog\": {\n",
    "                    \"min_confidence\": Decimal(\"0.6\"),\n",
    "                },\n",
    "                \"cat\": {\n",
    "                    \"min_confidence\": Decimal(\"0.6\"),\n",
    "                },\n",
    "                \"bird\": {\n",
    "                    \"min_confidence\": Decimal(\"0.6\"),\n",
    "                }\n",
    "            }\n",
    "        },\n",
    "        \"plate\": {\n",
    "            \"targets\": {\n",
    "                \"162D11338\": {\n",
    "                    \"min_plate_confidence\": Decimal(\"0.7\"),\n",
    "                    \"min_ocr_confidence\": Decimal(\"0.7\")\n",
    "                },\n",
    "            }\n",
    "        }\n",
    "    }\n",
    "}\n",
    "\n",
    "ANY_MOTION_CONFIG = {\n",
    "    \"channels\": {\n",
    "        \"whatsapp\": {\"numbers\": [\"+5551996039983\"]},\n",
    "        \"email\": {\"recipients\": [\"gustavofuhr87@gmail.com\"]},\n",
    "    },\n",
    "    \"rules\": {\n",
    "        \"any_motion\": {}\n",
    "    }\n",
    "}\n",
    "\n",
    "# \"whatsapp\": {\"numbers\": [\"+5551996039983\"]},\n",
    "\n",
    "STD_CAMERAS = [\"B8A44FE6D078__booth_entrance\", \"B8A44FB3A1F9__front\", \"B8A44FE6C853__booth_exit\", \"B8A44FB981BB__panoramic_trains\"]\n",
    "ANY_MOTION_CAMERAS = [\"B8A44FA0DC7A__axis-local\"]\n"
   ]
  },
  {
   "cell_type": "code",
   "execution_count": null,
   "id": "2",
   "metadata": {},
   "outputs": [],
   "source": [
    "import boto3\n",
    "from datetime import datetime\n",
    "\n",
    "\n",
    "dynamodb = boto3.resource(\"dynamodb\", region_name=\"eu-west-1\")\n",
    "TABLE_NAME = \"stream_configs\"\n",
    "table = dynamodb.Table(TABLE_NAME)\n",
    "\n",
    "def put_ai_config(device_id, config_type, config_data):\n",
    "    item = {\n",
    "        \"device_id\": device_id,\n",
    "        \"config_type\": config_type,\n",
    "        \"config\": config_data,\n",
    "        \"updated_at\": datetime.utcnow().isoformat()\n",
    "    }\n",
    "\n",
    "    table.put_item(Item=item)\n",
    "    print(f\"✅ Inserted config for device_id='{device_id}', config_type='{config_type}'\")\n",
    "\n",
    "for cam in STD_CAMERAS:\n",
    "    put_ai_config(cam, \"alarm_config\", STANDARD_CONFIG)\n",
    "\n",
    "for cam in ANY_MOTION_CAMERAS:\n",
    "    put_ai_config(cam, \"alarm_config\", ANY_MOTION_CONFIG)\n"
   ]
  }
 ],
 "metadata": {
  "kernelspec": {
   "display_name": "Python 3",
   "language": "python",
   "name": "python3"
  },
  "language_info": {
   "codemirror_mode": {
    "name": "ipython",
    "version": 3
   },
   "file_extension": ".py",
   "mimetype": "text/x-python",
   "name": "python",
   "nbconvert_exporter": "python",
   "pygments_lexer": "ipython3",
   "version": "3.10.12"
  }
 },
 "nbformat": 4,
 "nbformat_minor": 5
}
