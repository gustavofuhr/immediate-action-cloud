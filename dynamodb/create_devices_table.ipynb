{
 "cells": [
  {
   "cell_type": "markdown",
   "id": "0",
   "metadata": {},
   "source": [
    "## Create devices table\n",
    "\n",
    "Where the devices_id and information will leave"
   ]
  },
  {
   "cell_type": "code",
   "execution_count": null,
   "id": "1",
   "metadata": {},
   "outputs": [],
   "source": [
    "import boto3\n",
    "from botocore.exceptions import ClientError\n",
    "\n",
    "dynamodb = boto3.resource(\"dynamodb\", region_name=\"eu-west-1\")\n",
    "TABLE_NAME = \"devices\"\n",
    "\n",
    "try:\n",
    "    table = dynamodb.create_table(\n",
    "        TableName=TABLE_NAME,\n",
    "        KeySchema=[\n",
    "            {\"AttributeName\": \"device_id\", \"KeyType\": \"HASH\"},\n",
    "        ],\n",
    "        AttributeDefinitions=[\n",
    "            {\"AttributeName\": \"device_id\", \"AttributeType\": \"S\"},\n",
    "        ],\n",
    "        BillingMode=\"PAY_PER_REQUEST\"\n",
    "    )\n",
    "    print(\"Creating table...\")\n",
    "    table.wait_until_exists()\n",
    "    print(f\"Table '{TABLE_NAME}' created.\")\n",
    "except ClientError as e:\n",
    "    if e.response[\"Error\"][\"Code\"] == \"ResourceInUseException\":\n",
    "        print(f\"Table '{TABLE_NAME}' already exists.\")\n",
    "    else:\n",
    "        raise\n"
   ]
  }
 ],
 "metadata": {
  "language_info": {
   "name": "python"
  }
 },
 "nbformat": 4,
 "nbformat_minor": 5
}
