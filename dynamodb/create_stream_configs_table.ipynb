{
 "cells": [
  {
   "cell_type": "markdown",
   "id": "530f8015",
   "metadata": {},
   "source": [
    "### Create the table that store configurations, per stream."
   ]
  },
  {
   "cell_type": "code",
   "execution_count": 1,
   "id": "bb99a3af",
   "metadata": {},
   "outputs": [
    {
     "name": "stdout",
     "output_type": "stream",
     "text": [
      "Creating table...\n",
      "Table 'stream_configs' created.\n"
     ]
    }
   ],
   "source": [
    "import boto3\n",
    "from botocore.exceptions import ClientError\n",
    "\n",
    "dynamodb = boto3.resource(\"dynamodb\", region_name=\"eu-west-1\")\n",
    "TABLE_NAME = \"stream_configs\"\n",
    "\n",
    "try:\n",
    "    table = dynamodb.create_table(\n",
    "        TableName=TABLE_NAME,\n",
    "        KeySchema=[\n",
    "            {\"AttributeName\": \"device_id\", \"KeyType\": \"HASH\"},\n",
    "            {\"AttributeName\": \"config_type\", \"KeyType\": \"RANGE\"},\n",
    "        ],\n",
    "        AttributeDefinitions=[\n",
    "            {\"AttributeName\": \"device_id\", \"AttributeType\": \"S\"},\n",
    "            {\"AttributeName\": \"config_type\", \"AttributeType\": \"S\"},\n",
    "        ],\n",
    "        BillingMode=\"PAY_PER_REQUEST\"\n",
    "    )\n",
    "    print(\"Creating table...\")\n",
    "    table.wait_until_exists()\n",
    "    print(f\"Table '{TABLE_NAME}' created.\")\n",
    "except ClientError as e:\n",
    "    if e.response[\"Error\"][\"Code\"] == \"ResourceInUseException\":\n",
    "        print(f\"Table '{TABLE_NAME}' already exists.\")\n",
    "    else:\n",
    "        raise"
   ]
  },
  {
   "cell_type": "code",
   "execution_count": null,
   "id": "51fcc940",
   "metadata": {},
   "outputs": [
    {
     "name": "stdout",
     "output_type": "stream",
     "text": [
      "✅ Inserted config for device_id='B8A44FB3A1F9__front', config_type='ai_config'\n"
     ]
    }
   ],
   "source": [
    "import boto3\n",
    "from datetime import datetime\n",
    "from decimal import Decimal\n",
    "\n",
    "dynamodb = boto3.resource(\"dynamodb\", region_name=\"eu-west-1\")\n",
    "TABLE_NAME = \"stream_configs\"\n",
    "table = dynamodb.Table(TABLE_NAME)\n",
    "\n",
    "def put_ai_config():\n",
    "    device_id = \"B8A44FB3A1F9__front\"\n",
    "    config_type = \"ai_config\"\n",
    "\n",
    "    config_data = {\n",
    "        \"debug\": True,\n",
    "        \"models\": [\n",
    "            {\n",
    "                \"name\": \"object_detection_then_ppe\",\n",
    "                \"threshold\": Decimal(0.5),\n",
    "                \"classes_to_detect\": ['person', 'car_plate','bicycle', 'car', 'motorcycle', 'airplane', 'bus', 'train', 'truck', 'boat',\n",
    "                    'traffic light', 'fire hydrant', 'stop sign', 'parking meter', 'bench', 'bird', 'cat',\n",
    "                    'dog', 'horse', 'sheep', 'cow', 'elephant', 'bear', 'zebra', 'giraffe']\n",
    "            }\n",
    "        ]\n",
    "    }\n",
    "\n",
    "    item = {\n",
    "        \"device_id\": device_id,\n",
    "        \"config_type\": config_type,\n",
    "        \"config\": config_data,\n",
    "        \"updated_at\": datetime.utcnow().isoformat()\n",
    "    }\n",
    "\n",
    "    table.put_item(Item=item)\n",
    "    print(f\"✅ Inserted config for device_id='{device_id}', config_type='{config_type}'\")\n",
    "\n",
    "put_ai_config()\n"
   ]
  }
 ],
 "metadata": {
  "kernelspec": {
   "display_name": "Python 3",
   "language": "python",
   "name": "python3"
  },
  "language_info": {
   "codemirror_mode": {
    "name": "ipython",
    "version": 3
   },
   "file_extension": ".py",
   "mimetype": "text/x-python",
   "name": "python",
   "nbconvert_exporter": "python",
   "pygments_lexer": "ipython3",
   "version": "3.9.6"
  }
 },
 "nbformat": 4,
 "nbformat_minor": 5
}
