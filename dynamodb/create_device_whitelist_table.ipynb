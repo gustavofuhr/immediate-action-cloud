{
 "cells": [
  {
   "cell_type": "markdown",
   "id": "0",
   "metadata": {},
   "source": [
    "## Create table for device whitelist\n",
    "\n",
    "When the provision of a new camera occurs, it will check this table in order to allow/deny provisioning for the device"
   ]
  },
  {
   "cell_type": "code",
   "execution_count": null,
   "id": "1",
   "metadata": {},
   "outputs": [],
   "source": [
    "import boto3\n",
    "from botocore.exceptions import ClientError\n",
    "\n",
    "dynamodb = boto3.resource(\"dynamodb\", region_name=\"eu-west-1\")\n",
    "TABLE_NAME = \"device_whitelist\"\n",
    "\n",
    "try:\n",
    "    table = dynamodb.create_table(\n",
    "        TableName=TABLE_NAME,\n",
    "        KeySchema=[\n",
    "            {\"AttributeName\": \"device_serial_number\", \"KeyType\": \"HASH\"},\n",
    "        ],\n",
    "        AttributeDefinitions=[\n",
    "            {\"AttributeName\": \"device_serial_number\", \"AttributeType\": \"S\"},\n",
    "        ],\n",
    "        BillingMode=\"PAY_PER_REQUEST\"\n",
    "    )\n",
    "    print(\"Creating table...\")\n",
    "    table.wait_until_exists()\n",
    "    print(f\"Table '{TABLE_NAME}' created.\")\n",
    "except ClientError as e:\n",
    "    if e.response[\"Error\"][\"Code\"] == \"ResourceInUseException\":\n",
    "        print(f\"Table '{TABLE_NAME}' already exists.\")\n",
    "    else:\n",
    "        raise"
   ]
  },
  {
   "cell_type": "markdown",
   "id": "2",
   "metadata": {},
   "source": [
    "#### Add our current cameras in the whitelist"
   ]
  },
  {
   "cell_type": "code",
   "execution_count": null,
   "id": "3",
   "metadata": {},
   "outputs": [],
   "source": [
    "from datetime import datetime, timezone\n",
    "\n",
    "table = dynamodb.Table(TABLE_NAME)\n",
    "\n",
    "serial_numbers = [\n",
    "    \"B8A44F976508\",\n",
    "    \"B8A44F9C9902\",\n",
    "    \"B8A44F9CA507\",\n",
    "    \"B8A44FA0DC7A\",\n",
    "    \"B8A44FB0AC74\",\n",
    "    \"B8A44FB3A1F9\",\n",
    "    \"B8A44FB97C3C\",\n",
    "    \"B8A44FB981BB\",\n",
    "    \"B8A44FCDF536\",\n",
    "    \"B8A44FD014E5\",\n",
    "    \"B8A44FE6C853\",\n",
    "    \"B8A44FE6D078\",\n",
    "    \"B8A44FE820CC\",\n",
    "    \"E8272502493D\",\n",
    "    \"E82725029B39\",\n",
    "]\n",
    "\n",
    "for sn in serial_numbers:\n",
    "    table.put_item(\n",
    "        Item={\n",
    "            \"device_serial_number\": sn,\n",
    "            \"created_at\": datetime.now(timezone.utc).isoformat()\n",
    "        }\n",
    "    )\n",
    "    print(f\"Inserted {sn}\")"
   ]
  },
  {
   "cell_type": "code",
   "execution_count": null,
   "id": "4",
   "metadata": {},
   "outputs": [],
   "source": [
    "import boto3\n",
    "\n",
    "dynamodb = boto3.resource(\"dynamodb\", region_name=\"eu-west-1\")\n",
    "TABLE_NAME = \"device_whitelist\"\n",
    "table = dynamodb.Table(TABLE_NAME)\n",
    "\n",
    "\n",
    "# Remove a device from the whitelist, for testing\n",
    "def delete_sn(serial_number : str):\n",
    "    response = table.delete_item(\n",
    "        Key={\n",
    "            \"device_serial_number\": serial_number\n",
    "        }\n",
    "    )   \n",
    "    print(\"Delete response:\", response)\n",
    "\n",
    "delete_sn(\"B8A44FA0DC7A\")\n"
   ]
  }
 ],
 "metadata": {
  "kernelspec": {
   "display_name": "Python 3",
   "language": "python",
   "name": "python3"
  },
  "language_info": {
   "codemirror_mode": {
    "name": "ipython",
    "version": 3
   },
   "file_extension": ".py",
   "mimetype": "text/x-python",
   "name": "python",
   "nbconvert_exporter": "python",
   "pygments_lexer": "ipython3",
   "version": "3.10.12"
  }
 },
 "nbformat": 4,
 "nbformat_minor": 5
}
