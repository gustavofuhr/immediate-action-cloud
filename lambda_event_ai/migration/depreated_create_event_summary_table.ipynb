{
 "cells": [
  {
   "cell_type": "markdown",
   "id": "0",
   "metadata": {},
   "source": [
    "# Creates a new dynamoDB table that will store event summaries."
   ]
  },
  {
   "cell_type": "markdown",
   "id": "1",
   "metadata": {},
   "source": [
    "First of all I need to fix the mistake of adding frame_number to timestamps"
   ]
  },
  {
   "cell_type": "code",
   "execution_count": null,
   "id": "2",
   "metadata": {},
   "outputs": [],
   "source": [
    "import boto3\n",
    "\n",
    "dynamodb = boto3.client(\"dynamodb\", region_name=\"eu-west-1\")\n",
    "\n",
    "table_name = \"event_summaries\"\n",
    "\n",
    "response = dynamodb.create_table(\n",
    "    TableName=table_name,\n",
    "    KeySchema=[\n",
    "        {\"AttributeName\": \"device\", \"KeyType\": \"HASH\"},       # Partition key\n",
    "        {\"AttributeName\": \"timestamp\", \"KeyType\": \"RANGE\"}   # Sort key\n",
    "    ],\n",
    "    AttributeDefinitions=[\n",
    "        {\"AttributeName\": \"device\", \"AttributeType\": \"S\"},\n",
    "        {\"AttributeName\": \"timestamp\", \"AttributeType\": \"S\"},\n",
    "    ],\n",
    "    BillingMode=\"PAY_PER_REQUEST\",  # You can also use PROVISIONED\n",
    ")\n",
    "\n",
    "print(f\"Creating table '{table_name}'...\")\n",
    "\n",
    "# Wait until the table exists\n",
    "dynamodb_resource = boto3.resource(\"dynamodb\", region_name=\"eu-west-1\")\n",
    "table = dynamodb_resource.Table(table_name)\n",
    "table.wait_until_exists()\n",
    "\n",
    "print(f\"Table '{table_name}' is now active.\")\n"
   ]
  },
  {
   "cell_type": "markdown",
   "id": "3",
   "metadata": {},
   "source": [
    "Now, will add data in the table such accordantly with the videos produced (which right now stands for events processed in the cloud). With each video name which contains the time stamp, will get the detections ans summarize seen classes."
   ]
  },
  {
   "cell_type": "code",
   "execution_count": null,
   "id": "4",
   "metadata": {},
   "outputs": [],
   "source": [
    "DEVICE_NAME = \"axis-p3827-front-far\"\n",
    "\n",
    "import boto3\n",
    "from datetime import datetime, timedelta\n",
    "\n",
    "bucket_name = \"motion-event-snapshots\"\n",
    "s3 = boto3.client(\"s3\", region_name=\"eu-west-1\")\n",
    "\n",
    "def get_video_urls():\n",
    "    video_files = []\n",
    "    paginator = s3.get_paginator(\"list_objects_v2\")\n",
    "    for page in paginator.paginate(Bucket=bucket_name, Prefix=DEVICE_NAME):\n",
    "        for obj in page.get(\"Contents\", []):\n",
    "            key = obj[\"Key\"]\n",
    "            if key.endswith(\".mp4\"):\n",
    "                ts_str = key.removeprefix(f\"{DEVICE_NAME}/\").removesuffix(\".mp4\")\n",
    "                ts = datetime.strptime(ts_str, \"%Y-%m-%dT%H:%M:%S\")\n",
    "                video_files.append((ts, key))\n",
    "\n",
    "    video_files.sort()\n",
    "    return video_files\n",
    "\n",
    "print(\"Fetching video URLs...\")\n",
    "video_files = get_video_urls()\n",
    "print(f\"Found {len(video_files)} video files.\")\n",
    "print(f\"First video file: {video_files[0][0]} - {video_files[0][1]}\")"
   ]
  },
  {
   "cell_type": "code",
   "execution_count": null,
   "id": "5",
   "metadata": {},
   "outputs": [],
   "source": [
    "from datetime import timedelta\n",
    "from decimal import Decimal\n",
    "from boto3.dynamodb.conditions import Key\n",
    "import boto3\n",
    "from tqdm import tqdm\n",
    "\n",
    "from event_query import COCO_CLASSES\n",
    "\n",
    "dynamodb = boto3.resource(\"dynamodb\", region_name=\"eu-west-1\")\n",
    "table = dynamodb.Table(\"event_ai_clean\")\n",
    "summary_table = dynamodb.Table(\"event_summaries\")\n",
    "\n",
    "for ts, key in tqdm(video_files):\n",
    "    start_ts = ts.strftime(\"%Y-%m-%dT%H:%M:%S.%f+00:00\")\n",
    "    end_ts = (ts + timedelta(seconds=10)).strftime(\"%Y-%m-%dT%H:%M:%S.%f+00:00\")\n",
    "\n",
    "    # print(f\"Searching for events from {start_ts} to {end_ts}...\")\n",
    "\n",
    "    all_items = []\n",
    "    last_key = None\n",
    "\n",
    "    while True:\n",
    "        query_kwargs = {\n",
    "            \"KeyConditionExpression\": Key(\"device\").eq(DEVICE_NAME) &\n",
    "                                      Key(\"timestamp\").between(start_ts, end_ts)\n",
    "        }\n",
    "\n",
    "        if last_key:\n",
    "            query_kwargs[\"ExclusiveStartKey\"] = last_key\n",
    "\n",
    "        response = table.query(**query_kwargs)\n",
    "        items = response.get(\"Items\", [])\n",
    "        all_items.extend(items)\n",
    "        last_key = response.get(\"LastEvaluatedKey\")\n",
    "        if not last_key:\n",
    "            break\n",
    "\n",
    "    # Extract unique class labels >= 0.7\n",
    "    classes_above_thresh = set()\n",
    "\n",
    "    for item in all_items:\n",
    "        detections = item.get(\"all_fragment_detections\", [])\n",
    "        for det in detections:\n",
    "            if float(det[\"score\"]) >= 0.7:\n",
    "                classes_above_thresh.add(int(det[\"label\"]))\n",
    "\n",
    "    # Build summary record\n",
    "    summary_item = {\n",
    "        \"timestamp\": ts.isoformat(),\n",
    "        \"video_key\": f\"{key}\",\n",
    "        \"duration\": 10,\n",
    "        \"device\": DEVICE_NAME,\n",
    "        \"classes\": sorted({COCO_CLASSES[c] for c in classes_above_thresh if c in COCO_CLASSES}),\n",
    "        \"n_processed_frames\": len(all_items),\n",
    "    }\n",
    "\n",
    "    # print(f\"[SUMMARY] {summary_item}\")\n",
    "    summary_table.put_item(Item=summary_item)\n",
    "    \n"
   ]
  }
 ],
 "metadata": {
  "kernelspec": {
   "display_name": ".kvs_consumer",
   "language": "python",
   "name": "python3"
  },
  "language_info": {
   "codemirror_mode": {
    "name": "ipython",
    "version": 3
   },
   "file_extension": ".py",
   "mimetype": "text/x-python",
   "name": "python",
   "nbconvert_exporter": "python",
   "pygments_lexer": "ipython3",
   "version": "3.10.12"
  }
 },
 "nbformat": 4,
 "nbformat_minor": 5
}
