{
 "cells": [
  {
   "cell_type": "markdown",
   "id": "0",
   "metadata": {},
   "source": [
    "### Build, test and push lambda container"
   ]
  },
  {
   "cell_type": "code",
   "execution_count": null,
   "id": "1",
   "metadata": {},
   "outputs": [],
   "source": [
    "ecr_repo_name = \"event_ai_lambda_image\"\n",
    "lambda_function_name = \"event_ai_debug\"\n",
    "aws_region = \"eu-west-1\""
   ]
  },
  {
   "cell_type": "code",
   "execution_count": null,
   "id": "2",
   "metadata": {},
   "outputs": [],
   "source": [
    "!docker build -t {ecr_repo_name} ."
   ]
  },
  {
   "cell_type": "code",
   "execution_count": null,
   "id": "3",
   "metadata": {},
   "outputs": [],
   "source": [
    "!docker run --rm --entrypoint python {ecr_repo_name} lambda_function.py"
   ]
  },
  {
   "cell_type": "code",
   "execution_count": null,
   "id": "4",
   "metadata": {},
   "outputs": [],
   "source": [
    "import boto3\n",
    "account_id = boto3.client(\"sts\").get_caller_identity()[\"Account\"]\n",
    "print(account_id)"
   ]
  },
  {
   "cell_type": "code",
   "execution_count": null,
   "id": "5",
   "metadata": {},
   "outputs": [],
   "source": [
    "ecr_url = f\"{account_id}.dkr.ecr.{aws_region}.amazonaws.com/{ecr_repo_name}\"\n",
    "!aws ecr create-repository --repository-name {ecr_repo_name} --region {aws_region} || echo \"Repo already exists\"\n",
    "!aws ecr get-login-password --region {aws_region} | \\\n",
    "    docker login --username AWS --password-stdin {ecr_url}\n",
    "\n",
    "!docker tag {ecr_repo_name}:latest {ecr_url}:latest\n",
    "!docker push {ecr_url}:latest\n"
   ]
  },
  {
   "cell_type": "code",
   "execution_count": null,
   "id": "6",
   "metadata": {},
   "outputs": [],
   "source": [
    "!docker run --rm -it \\\n",
    "  -v ~/.aws:/root/.aws \\\n",
    "  -v \"$PWD\":/tmp \\\n",
    "  --entrypoint python \\\n",
    "  event_ai_lambda_image:latest lambda_function.py"
   ]
  }
 ],
 "metadata": {
  "kernelspec": {
   "display_name": "Python 3",
   "language": "python",
   "name": "python3"
  },
  "language_info": {
   "codemirror_mode": {
    "name": "ipython",
    "version": 3
   },
   "file_extension": ".py",
   "mimetype": "text/x-python",
   "name": "python",
   "nbconvert_exporter": "python",
   "pygments_lexer": "ipython3",
   "version": "3.10.12"
  }
 },
 "nbformat": 4,
 "nbformat_minor": 5
}
