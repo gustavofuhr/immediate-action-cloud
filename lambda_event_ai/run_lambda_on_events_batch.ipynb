{
 "cells": [
  {
   "cell_type": "markdown",
   "id": "0",
   "metadata": {},
   "source": [
    "## Runs the local lambda function to a set of events\n"
   ]
  },
  {
   "cell_type": "code",
   "execution_count": null,
   "id": "1",
   "metadata": {},
   "outputs": [],
   "source": [
    "events = [\n",
    "          (\"B8A44FE6D078__booth_entrance\", \"2025-07-31T17:52:01.943080+00:00\"),\n",
    "        #   (\"B8A44FE6D078__booth_entrance\", \"2025-07-30T22:32:55.373735+00:00\"),\n",
    "        #   (\"B8A44FE6C853__booth_exit\",\"2025-07-30T23:03:08.875762+00:00\"),\n",
    "        #   (\"B8A44FE6C853__booth_exit\",\"2025-07-31T17:48:09.027789+00:00\"),\n",
    "        #   (\"B8A44FE820CC__construction_ptz\",\"2025-07-24T10:15:47.642435+00:00\"),\n",
    "        #   (\"B8A44FE820CC__construction_ptz\",\"2025-07-24T05:31:59.606187+00:00\"),\n",
    "        # (\"B8A44F9CA507__front_far\", \"2025-08-01T08:28:52.668873+00:00\"),\n",
    "        # (\"B8A44F976508__panoramic_tree\", \"2025-08-01T10:21:09.235874+00:00\"),\n",
    "        # (\"B8A44FB0AC74__trains_close\", \"2025-08-01T19:09:22.725384+00:00\"),\n",
    "        # (\"B8A44F9C9902__train_rails\", \"2025-08-01T06:40:52.204862+00:00\"),\n",
    "        # (\"B8A44FD014E5__distorted_tree\", \"2025-08-01T06:40:07.891415+00:00\"),\n",
    "        # (\"B8A44FCDF536__parking_lot\", \"2025-08-01T05:49:47.559091+00:00\"),\n",
    "        # (\"B8A44FB981BB__panoramic_trains\", \"2025-08-01T04:20:20.799274+00:00\"),\n",
    "        ]\n",
    "OUT_DIR = \"out_events/\"\n",
    "\n",
    "dummy_event = {\n",
    "    \"topic\": \"cameras/{}/events/streaming/start\",\n",
    "    \"streaming_options\": {\n",
    "        \"gop_length\": 26,\n",
    "        \"frame\": \"1920x1080\",\n",
    "        \"fps\": 25,\n",
    "        \"encoder\": \"h264\"\n",
    "    },\n",
    "    \"post_buffer_seconds\": 10,\n",
    "    \"pre_buffer_seconds\": 10,\n",
    "    \"timestamp\": \"{}\"\n",
    "}\n",
    "\n",
    "\n",
    "import os\n",
    "\n",
    "os.makedirs(OUT_DIR, exist_ok=True)\n",
    "\n",
    "from lambda_function import lambda_handler\n",
    "class MockLambdaContext:\n",
    "    function_version = \"$LATEST\"\n",
    "    invoked_function_arn = \"arn:aws:lambda:eu-west-1:123456789012:function:mock_lambda\"\n",
    "    aws_request_id = \"2afc22dd-4c08-4e5b-8cb5-b002d9be13d5\"\n",
    "    log_stream_name = \"2025/05/15/[$LATEST]7baa3150e9d642eb9a8d7d97e920c2be\"\n",
    "\n",
    "\n",
    "for ev in events:\n",
    "    dummy_event[\"topic\"] = f\"cameras/{ev[0]}/events/streaming/start\"\n",
    "    dummy_event[\"timestamp\"] = ev[1].replace(\"+00:00\", \"Z\")\n",
    "    print(dummy_event)\n",
    "\n",
    "    lambda_handler(dummy_event, MockLambdaContext())\n",
    "    video_filename = os.path.join(\"/tmp\", f\"{ev[1]}.mp4\")\n",
    "    !cp {video_filename} {OUT_DIR}\n"
   ]
  },
  {
   "cell_type": "markdown",
   "id": "2",
   "metadata": {},
   "source": []
  }
 ],
 "metadata": {
  "kernelspec": {
   "display_name": "Python 3",
   "language": "python",
   "name": "python3"
  },
  "language_info": {
   "codemirror_mode": {
    "name": "ipython",
    "version": 3
   },
   "file_extension": ".py",
   "mimetype": "text/x-python",
   "name": "python",
   "nbconvert_exporter": "python",
   "pygments_lexer": "ipython3",
   "version": "3.10.12"
  }
 },
 "nbformat": 4,
 "nbformat_minor": 5
}
